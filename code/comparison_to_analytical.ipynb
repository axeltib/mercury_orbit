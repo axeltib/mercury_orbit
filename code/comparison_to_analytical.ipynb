{
 "cells": [
  {
   "cell_type": "code",
   "execution_count": 3,
   "metadata": {},
   "outputs": [],
   "source": [
    "import os\n",
    "import sys\n",
    "import pickle\n",
    "import re\n",
    "\n",
    "import numpy as np\n",
    "import scipy\n",
    "from scipy import stats\n",
    "\n",
    "import matplotlib.pyplot as plt\n",
    "import matplotlib\n",
    "\n",
    "sys.path.append(\"/home/axel/mercury_orbit\")\n",
    "sys.path.append(\"/home/axel/mercury_orbit/integrators_objects/\")\n",
    "from integrators.euler_forward import EulerForward\n",
    "from integrators.back_euler import BackEuler\n",
    "from integrators.rk4 import Rk4Integrator\n",
    "\n",
    "from utils.integrator_object_utils import save_integrators\n",
    "\n",
    "from scipy.signal import find_peaks\n",
    "from scipy.stats import linregress"
   ]
  },
  {
   "cell_type": "code",
   "execution_count": 6,
   "metadata": {},
   "outputs": [],
   "source": [
    "t_start = 0\n",
    "t_end = 3000\n",
    "\n",
    "M = 1\n",
    "r = 10\n",
    "#v = 0.345\n",
    "\n",
    "v = np.sqrt(M / r) #+ 0.01 * M / r\n",
    "#v = 0.375#np.sqrt(M / r) + 0.001 * M / r\n",
    "initial_conditions = np.array([r, 0.0, 0, v / r])\n",
    "\n",
    "dt_array = [0.5, 0.3, 0.1, 0.08, 0.05, 0.01]"
   ]
  },
  {
   "cell_type": "code",
   "execution_count": 7,
   "metadata": {},
   "outputs": [
    {
     "name": "stdout",
     "output_type": "stream",
     "text": [
      "euler\n",
      "0.5\n",
      "0.3\n",
      "0.1\n",
      "0.08\n",
      "0.05\n",
      "0.01\n",
      "back_euler\n",
      "0.5\n",
      "0.3\n",
      "0.1\n",
      "0.08\n",
      "0.05\n",
      "0.01\n",
      "rk4\n",
      "0.5\n",
      "0.3\n",
      "0.1\n",
      "0.08\n",
      "0.05\n",
      "0.01\n"
     ]
    }
   ],
   "source": [
    "integrator_classes = {\n",
    "    \"euler\": EulerForward,\n",
    "    \"back_euler\": BackEuler, \n",
    "    \"rk4\": Rk4Integrator\n",
    "}\n",
    "\n",
    "integrators = {}\n",
    "\n",
    "for name, integrator_class in integrator_classes.items():\n",
    "    method_integrators = {}\n",
    "    print(name)\n",
    "    for dt in dt_array:#, 0.001]:\n",
    "        print(dt)\n",
    "        euler_forward_integrator = EulerForward(initial_conditions, dt, t_end, t_start, M)\n",
    "        euler_forward_integrator.run_simulation()\n",
    "        method_integrators[str(dt)] = euler_forward_integrator\n",
    "        t_array = np.append(euler_forward_integrator.t_array, t_end)\n",
    "        # ax.plot(t_array, euler_forward_integrator.get_system_energy(), \"-\", label=\"Euler forward\")\n",
    "    integrators[name] = method_integrators\n"
   ]
  },
  {
   "cell_type": "code",
   "execution_count": 18,
   "metadata": {},
   "outputs": [
    {
     "data": {
      "text/plain": [
       "<matplotlib.legend.Legend at 0x7fe8cac08e80>"
      ]
     },
     "execution_count": 18,
     "metadata": {},
     "output_type": "execute_result"
    },
    {
     "data": {
      "image/png": "[encoded data removed]",
      "text/plain": [
       "<Figure size 720x720 with 3 Axes>"
      ]
     },
     "metadata": {
      "needs_background": "light"
     },
     "output_type": "display_data"
    }
   ],
   "source": [
    "fig, axs = plt.subplots(3,1, figsize=(10,10), sharex=True)\n",
    "fig.subplots_adjust(hspace=.01)\n",
    "for i, integrator_solutions in enumerate(integrators.values()):\n",
    "    #integrator_solutions = integrators[\"back_euler\"]\n",
    "    for dt, integrator in integrator_solutions.items():\n",
    "        axs[i].plot(np.append(integrator.t_array, t_end), integrator.obs[:,0], label=dt)\n",
    "axs[0].legend()\n"
   ]
  },
  {
   "cell_type": "code",
   "execution_count": 24,
   "metadata": {},
   "outputs": [
    {
     "name": "stdout",
     "output_type": "stream",
     "text": [
      "[10.0, 10.0, 10.0, 10.0, 10.0, 10.0] [0.0, 0.0, 0.0, 0.0, 0.0, 0.0]\n",
      "[10.0, 10.0, 10.0, 10.0, 10.0, 10.0] [0.0, 0.0, 0.0, 0.0, 0.0, 0.0]\n",
      "[10.0, 10.0, 10.0, 10.0, 10.0, 10.0] [0.0, 0.0, 0.0, 0.0, 0.0, 0.0]\n"
     ]
    }
   ],
   "source": [
    "for name, integrator_solutions in integrators.items():\n",
    "    r_means, r_var = [], []\n",
    "    for dt, integrator in integrator_solutions.items():\n",
    "        r_means.append(np.mean(integrator.obs[:,0]))\n",
    "        r_var.append(np.var(integrator.obs[:,0]))\n",
    "    print(r_means, r_var)\n",
    "        "
   ]
  }
 ],
 "metadata": {
  "kernelspec": {
   "display_name": "Python 3.6.9 64-bit",
   "language": "python",
   "name": "python3"
  },
  "language_info": {
   "codemirror_mode": {
    "name": "ipython",
    "version": 3
   },
   "file_extension": ".py",
   "mimetype": "text/x-python",
   "name": "python",
   "nbconvert_exporter": "python",
   "pygments_lexer": "ipython3",
   "version": "3.6.9"
  },
  "orig_nbformat": 4,
  "vscode": {
   "interpreter": {
    "hash": "31f2aee4e71d21fbe5cf8b01ff0e069b9275f58929596ceb00d14d90e3e16cd6"
   }
  }
 },
 "nbformat": 4,
 "nbformat_minor": 2
}
